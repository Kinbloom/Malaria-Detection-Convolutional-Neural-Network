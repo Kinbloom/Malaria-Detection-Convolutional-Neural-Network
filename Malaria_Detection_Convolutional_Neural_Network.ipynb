{
  "nbformat": 4,
  "nbformat_minor": 0,
  "metadata": {
    "colab": {
      "name": "Malaria Detection - Convolutional Neural Network",
      "provenance": [],
      "collapsed_sections": [],
      "include_colab_link": true
    },
    "kernelspec": {
      "name": "python3",
      "display_name": "Python 3"
    },
    "accelerator": "GPU"
  },
  "cells": [
    {
      "cell_type": "markdown",
      "metadata": {
        "id": "view-in-github",
        "colab_type": "text"
      },
      "source": [
        "<a href=\"https://colab.research.google.com/github/Kinbloom/Malaria-Detection-Convolutional-Neural-Network/blob/master/Malaria_Detection_Convolutional_Neural_Network.ipynb\" target=\"_parent\"><img src=\"https://colab.research.google.com/assets/colab-badge.svg\" alt=\"Open In Colab\"/></a>"
      ]
    },
    {
      "cell_type": "markdown",
      "metadata": {
        "id": "SBtQV-bnh0pn",
        "colab_type": "text"
      },
      "source": [
        "#Using  Convolutional Neural Networks to Detect Malaria-Infected Cells"
      ]
    },
    {
      "cell_type": "markdown",
      "metadata": {
        "id": "crRYuR-egZRl",
        "colab_type": "text"
      },
      "source": [
        "## Defining the Context"
      ]
    },
    {
      "cell_type": "markdown",
      "metadata": {
        "id": "AaveI-KJgXp0",
        "colab_type": "text"
      },
      "source": [
        "According to the World Health Organization, nearly half of the world's population risks contacting Malaria.\n",
        "\n",
        "Malaria is a life-threatening disease caused by parasites that are transmitted to people through the bites of infected mosquitoes. \n",
        "\n",
        "Automation of the diagnosis process will enable accurate diagnosis of the disease and hence holds the promise of delivering reliable health-care to resource-scarce areas. \n",
        "\n",
        "Machine learning technologies have been used for automated diagnosis of Malaria, in this case we make use of a Convolutional Neural Network.\n"
      ]
    },
    {
      "cell_type": "markdown",
      "metadata": {
        "id": "jO5cVLeWw7Wr",
        "colab_type": "text"
      },
      "source": [
        "###Problem Statement"
      ]
    },
    {
      "cell_type": "markdown",
      "metadata": {
        "id": "j0LgOZaxxUL9",
        "colab_type": "text"
      },
      "source": [
        "In most cases often the only available method for diagnosing Malaria is a manual examination of the microscopic slides. This process (manual examination) is tedious, slow and requires expertise which is limited, especially in rural areas."
      ]
    },
    {
      "cell_type": "markdown",
      "metadata": {
        "id": "rYim-_-bybRO",
        "colab_type": "text"
      },
      "source": [
        "###Objectives"
      ]
    },
    {
      "cell_type": "markdown",
      "metadata": {
        "id": "Ohap-IPHydud",
        "colab_type": "text"
      },
      "source": [
        "What we aim to do is build a Convolutional Neural Network (CNN) that helps automate the process of diagnosis of Malaria by classifying whether a cell is parasitized or uninfected.\n",
        "\n",
        "We have 13,780 image cells infected with Malaria and 13,780 normal cells in our image directories."
      ]
    },
    {
      "cell_type": "markdown",
      "metadata": {
        "id": "Jorz9kf7y3mf",
        "colab_type": "text"
      },
      "source": [
        "###Metrics of Success"
      ]
    },
    {
      "cell_type": "markdown",
      "metadata": {
        "id": "xHn9364gy6YC",
        "colab_type": "text"
      },
      "source": [
        "A Neural Network that predicts with an accuracy greater than 85%"
      ]
    },
    {
      "cell_type": "markdown",
      "metadata": {
        "id": "l0CyGowgzEaM",
        "colab_type": "text"
      },
      "source": [
        "###Steps taken "
      ]
    },
    {
      "cell_type": "markdown",
      "metadata": {
        "id": "9KDbKgrazIqk",
        "colab_type": "text"
      },
      "source": [
        "1. Import the necessary libraries\n",
        "2. Load the images from the data source\n",
        "3. Display random samples of the cells\n",
        "4. Define the layers of the CNN\n",
        "5. Split the data into train and test sets\n",
        "6. Fitting the model with the training data\n",
        "7. Check for accuracy of the training ,validation and test sets\n",
        "8. Augment the model to try improve the accuracy "
      ]
    },
    {
      "cell_type": "markdown",
      "metadata": {
        "id": "B-Ndn4HHiI2D",
        "colab_type": "text"
      },
      "source": [
        "### Importing Required Libraries"
      ]
    },
    {
      "cell_type": "code",
      "metadata": {
        "id": "VB2T8blcKZQC",
        "colab_type": "code",
        "colab": {}
      },
      "source": [
        "#Import the necessary python libraries\n",
        "import pandas as pd\n",
        "import numpy as np\n",
        "import matplotlib.pyplot as plt\n",
        "\n",
        "#Import the necessary sklearn commands\n",
        "from sklearn.model_selection import train_test_split\n",
        "from sklearn.metrics import confusion_matrix, classification_report, accuracy_score"
      ],
      "execution_count": 0,
      "outputs": []
    },
    {
      "cell_type": "code",
      "metadata": {
        "id": "5jvZodhYKZGU",
        "colab_type": "code",
        "outputId": "7dd08663-0589-47d5-cdad-507dffe88208",
        "colab": {
          "base_uri": "https://localhost:8080/",
          "height": 35
        }
      },
      "source": [
        "#Import the necessary keras libraries\n",
        "\n",
        "import keras\n",
        "from keras.layers import Convolution2D, MaxPooling2D, Flatten, \\\n",
        "Dense, BatchNormalization, Dropout\n",
        "from keras.models import Sequential\n",
        "\n",
        "import os\n",
        "import cv2\n",
        "import glob\n",
        "from PIL import Image"
      ],
      "execution_count": 0,
      "outputs": [
        {
          "output_type": "stream",
          "text": [
            "Using TensorFlow backend.\n"
          ],
          "name": "stderr"
        }
      ]
    },
    {
      "cell_type": "markdown",
      "metadata": {
        "id": "WNNjSrhse5eH",
        "colab_type": "text"
      },
      "source": [
        "###Load the image data from the data source"
      ]
    },
    {
      "cell_type": "code",
      "metadata": {
        "id": "WRYTW7uatje1",
        "colab_type": "code",
        "outputId": "98db77a2-a3be-4c13-b2f8-5a4e4fb2a248",
        "colab": {
          "base_uri": "https://localhost:8080/",
          "height": 129
        }
      },
      "source": [
        "from google.colab import drive\n",
        "drive.mount('/content/drive')"
      ],
      "execution_count": 0,
      "outputs": [
        {
          "output_type": "stream",
          "text": [
            "Go to this URL in a browser: https://accounts.google.com/o/oauth2/auth?client_id=947318989803-6bn6qk8qdgf4n4g3pfee6491hc0brc4i.apps.googleusercontent.com&redirect_uri=urn%3Aietf%3Awg%3Aoauth%3A2.0%3Aoob&scope=email%20https%3A%2F%2Fwww.googleapis.com%2Fauth%2Fdocs.test%20https%3A%2F%2Fwww.googleapis.com%2Fauth%2Fdrive%20https%3A%2F%2Fwww.googleapis.com%2Fauth%2Fdrive.photos.readonly%20https%3A%2F%2Fwww.googleapis.com%2Fauth%2Fpeopleapi.readonly&response_type=code\n",
            "\n",
            "Enter your authorization code:\n",
            "··········\n",
            "Mounted at /content/drive\n"
          ],
          "name": "stdout"
        }
      ]
    },
    {
      "cell_type": "code",
      "metadata": {
        "id": "KNwViJOsumSE",
        "colab_type": "code",
        "colab": {}
      },
      "source": [
        "!unzip -uq '/content/drive/My Drive/malaria.zip'"
      ],
      "execution_count": 0,
      "outputs": []
    },
    {
      "cell_type": "code",
      "metadata": {
        "id": "KtXsqGkE6DTt",
        "colab_type": "code",
        "colab": {}
      },
      "source": [
        "data_path = '/content/cell_images'\n",
        "\n",
        "#Set each image size to be 64x64.\n",
        "size = 64\n",
        "dataset = []\n",
        "label = []\n",
        "\n"
      ],
      "execution_count": 0,
      "outputs": []
    },
    {
      "cell_type": "code",
      "metadata": {
        "id": "eakD2sJd8Vv-",
        "colab_type": "code",
        "colab": {}
      },
      "source": [
        "# loading images for infected cells\n",
        "infected_images = os.listdir('/content/cell_images/Parasitized')\n",
        "for i, image_name in enumerate(infected_images):\n",
        "    try:\n",
        "        if (image_name.split('.')[1] == 'png'): #Iterate through all files with extension 'png'.\n",
        "          \n",
        "            image = cv2.imread(data_path + '/Parasitized/' + image_name)  # loading images from the parasitized file\n",
        "            image = Image.fromarray(image, 'RGB')\n",
        "            image = image.resize((size, size))   # creating resized copies of the images\n",
        "            dataset.append(np.array(image))   # appending the images to our dataset list \n",
        "            label.append(0)\n",
        "    except Exception:\n",
        "        print(\"Could not read image {} with name {}\".format(i, image_name))"
      ],
      "execution_count": 0,
      "outputs": []
    },
    {
      "cell_type": "markdown",
      "metadata": {
        "id": "CjhFDtCJbdW-",
        "colab_type": "text"
      },
      "source": [
        "*Steps taken to load the Infected Cell files*\n",
        "- Read the image using cv2.imread()\n",
        "- Convert it from an array using Image.fromarray() and resize it to 64x64 (which was the size specified for each image). \n",
        "- Save it to the dataset variable and append 0 for each of these images to label. "
      ]
    },
    {
      "cell_type": "code",
      "metadata": {
        "id": "ChivQuq58Vs5",
        "colab_type": "code",
        "colab": {}
      },
      "source": [
        "# loading images for uninfected cells\n",
        "uninfected_images = os.listdir('/content/cell_images/Uninfected')\n",
        "for i, image_name in enumerate(uninfected_images):\n",
        "    try:\n",
        "        if (image_name.split('.')[1] == 'png'):\n",
        "            image = cv2.imread(data_path + '/Uninfected/' + image_name)\n",
        "            image = Image.fromarray(image, 'RGB')\n",
        "            image = image.resize((size, size))\n",
        "            dataset.append(np.array(image))\n",
        "            label.append(1)\n",
        "    except Exception:\n",
        "        print(\"Could not read image {} with name {}\".format(i, image_name))"
      ],
      "execution_count": 0,
      "outputs": []
    },
    {
      "cell_type": "markdown",
      "metadata": {
        "id": "-pnYnCuPcB2D",
        "colab_type": "text"
      },
      "source": [
        "*Steps taken to load the Uninfected Cell files*\n",
        "- Read the image using cv2.imread()\n",
        "- Convert it from an array using Image.fromarray() and resize it to 64x64 (which was the size specified for each image). \n",
        "- Save it to the dataset variable and append 1 for each of these images to label. "
      ]
    },
    {
      "cell_type": "markdown",
      "metadata": {
        "id": "YQgI17GgcW1u",
        "colab_type": "text"
      },
      "source": [
        "###Visualize the Cell Data"
      ]
    },
    {
      "cell_type": "code",
      "metadata": {
        "id": "78gspjkC8Vqg",
        "colab_type": "code",
        "outputId": "109f267f-4276-4266-9645-97fba3ab32d4",
        "colab": {
          "base_uri": "https://localhost:8080/",
          "height": 244
        }
      },
      "source": [
        "#Plot the images for infected cells\n",
        "plt.figure(figsize = (20, 12))\n",
        "for index, image_index in enumerate(np.random.randint(len(infected_images), size = 5)):\n",
        "    plt.subplot(1, 5, index+1)\n",
        "    plt.imshow(dataset[image_index])\n",
        "    "
      ],
      "execution_count": 0,
      "outputs": [
        {
          "output_type": "display_data",
          "data": {
            "image/png": "[encoded data removed]",
            "text/plain": [
              "<Figure size 1440x864 with 5 Axes>"
            ]
          },
          "metadata": {
            "tags": []
          }
        }
      ]
    },
    {
      "cell_type": "code",
      "metadata": {
        "id": "5M-lgMvD8Vnf",
        "colab_type": "code",
        "outputId": "0fbd737c-ef0a-410e-b05b-1c2cae0114bf",
        "colab": {
          "base_uri": "https://localhost:8080/",
          "height": 244
        }
      },
      "source": [
        "#Plot the images for uninfected cells\n",
        "plt.figure(figsize = (20, 12))\n",
        "for index, image_index in enumerate(np.random.randint(len(uninfected_images), size = 5)):\n",
        "    plt.subplot(1, 5, index+1)\n",
        "    plt.imshow(dataset[len(uninfected_images) + image_index])\n",
        "    "
      ],
      "execution_count": 0,
      "outputs": [
        {
          "output_type": "display_data",
          "data": {
            "image/png": "[encoded data removed]",
            "text/plain": [
              "<Figure size 1440x864 with 5 Axes>"
            ]
          },
          "metadata": {
            "tags": []
          }
        }
      ]
    },
    {
      "cell_type": "code",
      "metadata": {
        "id": "lDsLvNNmD15e",
        "colab_type": "code",
        "outputId": "1aa9529c-2e00-40ec-acc9-0757616fb70e",
        "colab": {
          "base_uri": "https://localhost:8080/",
          "height": 297
        }
      },
      "source": [
        "import seaborn as sns\n",
        "\n",
        "\n",
        "\n",
        "sns.countplot(label)\n",
        "plt.title('Countplot Showing Distribution of The Cells', fontsize=15, color='olive')\n",
        "plt.xlabel('Cell Types')\n",
        "plt.xticks([0,1], ['Parasitized', 'Uninfected'])\n",
        "plt.show()"
      ],
      "execution_count": 0,
      "outputs": [
        {
          "output_type": "display_data",
          "data": {
            "image/png": "[encoded data removed]",
            "text/plain": [
              "<Figure size 432x288 with 1 Axes>"
            ]
          },
          "metadata": {
            "tags": []
          }
        }
      ]
    },
    {
      "cell_type": "markdown",
      "metadata": {
        "id": "aHdfpWSzcbuO",
        "colab_type": "text"
      },
      "source": [
        "###The Convolutional Neural Network"
      ]
    },
    {
      "cell_type": "code",
      "metadata": {
        "id": "eG2EviRd_j-V",
        "colab_type": "code",
        "outputId": "acb001f1-1f51-4801-df5e-3b67f126a436",
        "colab": {
          "base_uri": "https://localhost:8080/",
          "height": 536
        }
      },
      "source": [
        "#Defining the layers for the neural network\n",
        "#Convolutional Neural Network\n",
        "\n",
        "classifier = None\n",
        "\n",
        "#The model type that we will be using is Sequential. Sequential is the easiest way to build a model in Keras. It allows you to build a model layer by layer.\n",
        "classifier = Sequential()\n",
        "\n",
        "#We use the ‘add()’ function to add layers to our model.\n",
        "#Our first layer is a Convolution2D layer. This is a convolution layer that will deal with our input images, which are seen as 2-dimensional matrices.\n",
        "#In our case, 32 in the first layer is the number of nodes in each layer. \n",
        "#This number can be adjusted to be higher or lower, depending on the size of the dataset. In our case, 32 works well, so we will stick with this for now.\n",
        "# Size (kernel size) is the size of the filter matrix for our convolution. So a kernel size of 3 means we will have a 3x3 filter matrix\n",
        "#The activation function we will be using  is the ReLU, or Rectified Linear Activation. \n",
        "#Our first layer also takes in an input shape. This is the shape of each input image.\n",
        "classifier.add(Convolution2D(32, (3, 3), input_shape = (size, size, 3), activation = 'relu'))\n",
        "\n",
        "#Downscaling outputs using maxpool2D\n",
        "classifier.add(MaxPooling2D(pool_size = (2, 2), data_format=\"channels_last\"))\n",
        "\n",
        "#Normalizing output from previous activation function\n",
        "#The axis to be normalized is defined as -1\n",
        "classifier.add(BatchNormalization(axis = -1))\n",
        "\n",
        "#Setting select random values to 0 to prevent overfitting\n",
        "classifier.add(Dropout(0.2))\n",
        "\n",
        "classifier.add(Convolution2D(32, (3, 3), activation = 'relu'))\n",
        "\n",
        "classifier.add(MaxPooling2D(pool_size = (2, 2), data_format=\"channels_last\"))\n",
        "\n",
        "classifier.add(BatchNormalization(axis = -1))\n",
        "\n",
        "classifier.add(Dropout(0.2))\n",
        "\n",
        "#Transforming the matrix to a single array\n",
        "classifier.add(Flatten())\n",
        "\n",
        "#The units define the number of neurons in the given layer\n",
        "classifier.add(Dense(activation = 'relu', units=512))\n",
        "\n",
        "classifier.add(BatchNormalization(axis = -1))\n",
        "\n",
        "classifier.add(Dropout(0.2))\n",
        "\n",
        "classifier.add(Dense(activation = 'relu', units=256))\n",
        "\n",
        "classifier.add(BatchNormalization(axis = -1))\n",
        "\n",
        "classifier.add(Dropout(0.2))\n",
        "\n",
        "\n",
        "# 2 units for the output layer because the cell is either infected or not\n",
        "classifier.add(Dense(activation = 'sigmoid', units=2))\n",
        "\n"
      ],
      "execution_count": 0,
      "outputs": [
        {
          "output_type": "stream",
          "text": [
            "WARNING:tensorflow:From /usr/local/lib/python3.6/dist-packages/keras/backend/tensorflow_backend.py:66: The name tf.get_default_graph is deprecated. Please use tf.compat.v1.get_default_graph instead.\n",
            "\n",
            "WARNING:tensorflow:From /usr/local/lib/python3.6/dist-packages/keras/backend/tensorflow_backend.py:541: The name tf.placeholder is deprecated. Please use tf.compat.v1.placeholder instead.\n",
            "\n",
            "WARNING:tensorflow:From /usr/local/lib/python3.6/dist-packages/keras/backend/tensorflow_backend.py:4432: The name tf.random_uniform is deprecated. Please use tf.random.uniform instead.\n",
            "\n",
            "WARNING:tensorflow:From /usr/local/lib/python3.6/dist-packages/keras/backend/tensorflow_backend.py:4267: The name tf.nn.max_pool is deprecated. Please use tf.nn.max_pool2d instead.\n",
            "\n",
            "WARNING:tensorflow:From /usr/local/lib/python3.6/dist-packages/keras/backend/tensorflow_backend.py:190: The name tf.get_default_session is deprecated. Please use tf.compat.v1.get_default_session instead.\n",
            "\n",
            "WARNING:tensorflow:From /usr/local/lib/python3.6/dist-packages/keras/backend/tensorflow_backend.py:197: The name tf.ConfigProto is deprecated. Please use tf.compat.v1.ConfigProto instead.\n",
            "\n",
            "WARNING:tensorflow:From /usr/local/lib/python3.6/dist-packages/keras/backend/tensorflow_backend.py:203: The name tf.Session is deprecated. Please use tf.compat.v1.Session instead.\n",
            "\n",
            "WARNING:tensorflow:From /usr/local/lib/python3.6/dist-packages/keras/backend/tensorflow_backend.py:207: The name tf.global_variables is deprecated. Please use tf.compat.v1.global_variables instead.\n",
            "\n",
            "WARNING:tensorflow:From /usr/local/lib/python3.6/dist-packages/keras/backend/tensorflow_backend.py:216: The name tf.is_variable_initialized is deprecated. Please use tf.compat.v1.is_variable_initialized instead.\n",
            "\n",
            "WARNING:tensorflow:From /usr/local/lib/python3.6/dist-packages/keras/backend/tensorflow_backend.py:223: The name tf.variables_initializer is deprecated. Please use tf.compat.v1.variables_initializer instead.\n",
            "\n",
            "WARNING:tensorflow:From /usr/local/lib/python3.6/dist-packages/keras/backend/tensorflow_backend.py:2041: The name tf.nn.fused_batch_norm is deprecated. Please use tf.compat.v1.nn.fused_batch_norm instead.\n",
            "\n",
            "WARNING:tensorflow:From /usr/local/lib/python3.6/dist-packages/keras/backend/tensorflow_backend.py:148: The name tf.placeholder_with_default is deprecated. Please use tf.compat.v1.placeholder_with_default instead.\n",
            "\n",
            "WARNING:tensorflow:From /usr/local/lib/python3.6/dist-packages/keras/backend/tensorflow_backend.py:3733: calling dropout (from tensorflow.python.ops.nn_ops) with keep_prob is deprecated and will be removed in a future version.\n",
            "Instructions for updating:\n",
            "Please use `rate` instead of `keep_prob`. Rate should be set to `rate = 1 - keep_prob`.\n"
          ],
          "name": "stdout"
        }
      ]
    },
    {
      "cell_type": "markdown",
      "metadata": {
        "id": "SXanc-xQdhI7",
        "colab_type": "text"
      },
      "source": [
        "*Steps to be taken in creating the CNN*\n",
        "\n",
        "- Create a Convolution kernel \n",
        "- Followed by a MaxPooling layer\n",
        "- Followed by BatchNormalization to normalize the output from the previous layers \n",
        "- Apply the Dropout regularization. \n",
        "- Append set of these layers\n",
        "- Flatten the outputs ; The flattened outputs are then passed to an Artificial Neural Network which includes three dense layers with 512, 256 and 2 nodes. \n",
        "- The last layer is the output layer with the activation function sigmoid"
      ]
    },
    {
      "cell_type": "code",
      "metadata": {
        "id": "EMgnjgOu_j8F",
        "colab_type": "code",
        "outputId": "04ef5a04-24aa-4706-db48-502238e4c7b9",
        "colab": {
          "base_uri": "https://localhost:8080/",
          "height": 869
        }
      },
      "source": [
        "#Compilation \n",
        "classifier.compile(optimizer = 'adam', loss = 'categorical_crossentropy', metrics = ['accuracy'])\n",
        "\n",
        "print(classifier.summary())"
      ],
      "execution_count": 0,
      "outputs": [
        {
          "output_type": "stream",
          "text": [
            "WARNING:tensorflow:From /usr/local/lib/python3.6/dist-packages/keras/optimizers.py:793: The name tf.train.Optimizer is deprecated. Please use tf.compat.v1.train.Optimizer instead.\n",
            "\n",
            "WARNING:tensorflow:From /usr/local/lib/python3.6/dist-packages/keras/backend/tensorflow_backend.py:3576: The name tf.log is deprecated. Please use tf.math.log instead.\n",
            "\n",
            "Model: \"sequential_1\"\n",
            "_________________________________________________________________\n",
            "Layer (type)                 Output Shape              Param #   \n",
            "=================================================================\n",
            "conv2d_1 (Conv2D)            (None, 62, 62, 32)        896       \n",
            "_________________________________________________________________\n",
            "max_pooling2d_1 (MaxPooling2 (None, 31, 31, 32)        0         \n",
            "_________________________________________________________________\n",
            "batch_normalization_1 (Batch (None, 31, 31, 32)        128       \n",
            "_________________________________________________________________\n",
            "dropout_1 (Dropout)          (None, 31, 31, 32)        0         \n",
            "_________________________________________________________________\n",
            "conv2d_2 (Conv2D)            (None, 29, 29, 32)        9248      \n",
            "_________________________________________________________________\n",
            "max_pooling2d_2 (MaxPooling2 (None, 14, 14, 32)        0         \n",
            "_________________________________________________________________\n",
            "batch_normalization_2 (Batch (None, 14, 14, 32)        128       \n",
            "_________________________________________________________________\n",
            "dropout_2 (Dropout)          (None, 14, 14, 32)        0         \n",
            "_________________________________________________________________\n",
            "flatten_1 (Flatten)          (None, 6272)              0         \n",
            "_________________________________________________________________\n",
            "dense_1 (Dense)              (None, 512)               3211776   \n",
            "_________________________________________________________________\n",
            "batch_normalization_3 (Batch (None, 512)               2048      \n",
            "_________________________________________________________________\n",
            "dropout_3 (Dropout)          (None, 512)               0         \n",
            "_________________________________________________________________\n",
            "dense_2 (Dense)              (None, 256)               131328    \n",
            "_________________________________________________________________\n",
            "batch_normalization_4 (Batch (None, 256)               1024      \n",
            "_________________________________________________________________\n",
            "dropout_4 (Dropout)          (None, 256)               0         \n",
            "_________________________________________________________________\n",
            "dense_3 (Dense)              (None, 2)                 514       \n",
            "=================================================================\n",
            "Total params: 3,357,090\n",
            "Trainable params: 3,355,426\n",
            "Non-trainable params: 1,664\n",
            "_________________________________________________________________\n",
            "None\n"
          ],
          "name": "stdout"
        }
      ]
    },
    {
      "cell_type": "code",
      "metadata": {
        "id": "d-Mm0zB9_j0y",
        "colab_type": "code",
        "colab": {}
      },
      "source": [
        "#Split data into training and test sets\n",
        "from keras.utils import to_categorical\n",
        "\n",
        "X_train, X_test, y_train, y_test = train_test_split(dataset, to_categorical(np.array(label)), test_size = 0.2, random_state = 10)"
      ],
      "execution_count": 0,
      "outputs": []
    },
    {
      "cell_type": "code",
      "metadata": {
        "id": "F9MFlQHVAjwC",
        "colab_type": "code",
        "outputId": "bcd60890-7eef-447c-80b8-e7350ede26f0",
        "colab": {
          "base_uri": "https://localhost:8080/",
          "height": 1000
        }
      },
      "source": [
        "#Fit the model with training data\n",
        "\n",
        "history = classifier.fit(np.array(X_train), y_train, \\\n",
        "                         batch_size = 64, verbose = 2, epochs = 50,\\\n",
        "                         validation_split = 0.1, shuffle = False)"
      ],
      "execution_count": 0,
      "outputs": [
        {
          "output_type": "stream",
          "text": [
            "WARNING:tensorflow:From /usr/local/lib/python3.6/dist-packages/tensorflow_core/python/ops/math_grad.py:1424: where (from tensorflow.python.ops.array_ops) is deprecated and will be removed in a future version.\n",
            "Instructions for updating:\n",
            "Use tf.where in 2.0, which has the same broadcast rule as np.where\n",
            "WARNING:tensorflow:From /usr/local/lib/python3.6/dist-packages/keras/backend/tensorflow_backend.py:1033: The name tf.assign_add is deprecated. Please use tf.compat.v1.assign_add instead.\n",
            "\n",
            "WARNING:tensorflow:From /usr/local/lib/python3.6/dist-packages/keras/backend/tensorflow_backend.py:1020: The name tf.assign is deprecated. Please use tf.compat.v1.assign instead.\n",
            "\n",
            "Train on 19841 samples, validate on 2205 samples\n",
            "Epoch 1/50\n",
            " - 13s - loss: 0.4775 - acc: 0.7697 - val_loss: 2.6556 - val_acc: 0.5664\n",
            "Epoch 2/50\n",
            " - 8s - loss: 0.2352 - acc: 0.9122 - val_loss: 0.4043 - val_acc: 0.8449\n",
            "Epoch 3/50\n",
            " - 8s - loss: 0.1950 - acc: 0.9272 - val_loss: 0.2856 - val_acc: 0.8816\n",
            "Epoch 4/50\n",
            " - 8s - loss: 0.1753 - acc: 0.9341 - val_loss: 0.1818 - val_acc: 0.9215\n",
            "Epoch 5/50\n",
            " - 8s - loss: 0.1565 - acc: 0.9395 - val_loss: 0.1920 - val_acc: 0.9261\n",
            "Epoch 6/50\n",
            " - 8s - loss: 0.1359 - acc: 0.9483 - val_loss: 0.7213 - val_acc: 0.7379\n",
            "Epoch 7/50\n",
            " - 8s - loss: 0.1245 - acc: 0.9515 - val_loss: 0.2185 - val_acc: 0.9274\n",
            "Epoch 8/50\n",
            " - 8s - loss: 0.1045 - acc: 0.9598 - val_loss: 0.3161 - val_acc: 0.9029\n",
            "Epoch 9/50\n",
            " - 8s - loss: 0.0916 - acc: 0.9616 - val_loss: 0.3107 - val_acc: 0.8998\n",
            "Epoch 10/50\n",
            " - 9s - loss: 0.0803 - acc: 0.9668 - val_loss: 0.2688 - val_acc: 0.9302\n",
            "Epoch 11/50\n",
            " - 8s - loss: 0.0738 - acc: 0.9695 - val_loss: 0.1792 - val_acc: 0.9465\n",
            "Epoch 12/50\n",
            " - 8s - loss: 0.0663 - acc: 0.9729 - val_loss: 0.1511 - val_acc: 0.9528\n",
            "Epoch 13/50\n",
            " - 8s - loss: 0.0621 - acc: 0.9746 - val_loss: 0.1942 - val_acc: 0.9379\n",
            "Epoch 14/50\n",
            " - 8s - loss: 0.0489 - acc: 0.9790 - val_loss: 0.2280 - val_acc: 0.9365\n",
            "Epoch 15/50\n",
            " - 8s - loss: 0.0451 - acc: 0.9805 - val_loss: 0.1857 - val_acc: 0.9474\n",
            "Epoch 16/50\n",
            " - 8s - loss: 0.0411 - acc: 0.9833 - val_loss: 0.2008 - val_acc: 0.9483\n",
            "Epoch 17/50\n",
            " - 8s - loss: 0.0444 - acc: 0.9824 - val_loss: 0.2079 - val_acc: 0.9415\n",
            "Epoch 18/50\n",
            " - 8s - loss: 0.0680 - acc: 0.9742 - val_loss: 0.1828 - val_acc: 0.9488\n",
            "Epoch 19/50\n",
            " - 8s - loss: 0.0408 - acc: 0.9829 - val_loss: 0.1950 - val_acc: 0.9415\n",
            "Epoch 20/50\n",
            " - 8s - loss: 0.0283 - acc: 0.9875 - val_loss: 0.2127 - val_acc: 0.9469\n",
            "Epoch 21/50\n",
            " - 8s - loss: 0.0322 - acc: 0.9864 - val_loss: 0.2086 - val_acc: 0.9506\n",
            "Epoch 22/50\n",
            " - 8s - loss: 0.0250 - acc: 0.9900 - val_loss: 0.1874 - val_acc: 0.9488\n",
            "Epoch 23/50\n",
            " - 8s - loss: 0.0234 - acc: 0.9908 - val_loss: 0.2549 - val_acc: 0.9433\n",
            "Epoch 24/50\n",
            " - 8s - loss: 0.0246 - acc: 0.9907 - val_loss: 0.2810 - val_acc: 0.9415\n",
            "Epoch 25/50\n",
            " - 8s - loss: 0.0206 - acc: 0.9921 - val_loss: 0.2343 - val_acc: 0.9424\n",
            "Epoch 26/50\n",
            " - 8s - loss: 0.0205 - acc: 0.9929 - val_loss: 0.2486 - val_acc: 0.9406\n",
            "Epoch 27/50\n",
            " - 8s - loss: 0.0202 - acc: 0.9925 - val_loss: 1.4064 - val_acc: 0.5637\n",
            "Epoch 28/50\n",
            " - 8s - loss: 0.0147 - acc: 0.9946 - val_loss: 0.2872 - val_acc: 0.9483\n",
            "Epoch 29/50\n",
            " - 8s - loss: 0.0136 - acc: 0.9950 - val_loss: 0.2788 - val_acc: 0.9537\n",
            "Epoch 30/50\n",
            " - 8s - loss: 0.0115 - acc: 0.9959 - val_loss: 0.2649 - val_acc: 0.9519\n",
            "Epoch 31/50\n",
            " - 8s - loss: 0.0141 - acc: 0.9948 - val_loss: 0.2294 - val_acc: 0.9497\n",
            "Epoch 32/50\n",
            " - 8s - loss: 0.0092 - acc: 0.9971 - val_loss: 0.2647 - val_acc: 0.9474\n",
            "Epoch 33/50\n",
            " - 8s - loss: 0.0162 - acc: 0.9942 - val_loss: 0.3216 - val_acc: 0.9415\n",
            "Epoch 34/50\n",
            " - 8s - loss: 0.0115 - acc: 0.9959 - val_loss: 0.2298 - val_acc: 0.9551\n",
            "Epoch 35/50\n",
            " - 8s - loss: 0.0094 - acc: 0.9968 - val_loss: 0.3253 - val_acc: 0.9483\n",
            "Epoch 36/50\n",
            " - 8s - loss: 0.0096 - acc: 0.9965 - val_loss: 0.2569 - val_acc: 0.9465\n",
            "Epoch 37/50\n",
            " - 8s - loss: 0.0083 - acc: 0.9972 - val_loss: 0.2513 - val_acc: 0.9524\n",
            "Epoch 38/50\n",
            " - 8s - loss: 0.0083 - acc: 0.9970 - val_loss: 0.2678 - val_acc: 0.9533\n",
            "Epoch 39/50\n",
            " - 8s - loss: 0.0105 - acc: 0.9965 - val_loss: 0.2842 - val_acc: 0.9533\n",
            "Epoch 40/50\n",
            " - 8s - loss: 0.0111 - acc: 0.9966 - val_loss: 0.2480 - val_acc: 0.9483\n",
            "Epoch 41/50\n",
            " - 8s - loss: 0.0109 - acc: 0.9966 - val_loss: 0.2695 - val_acc: 0.9492\n",
            "Epoch 42/50\n",
            " - 8s - loss: 0.0082 - acc: 0.9973 - val_loss: 0.2761 - val_acc: 0.9537\n",
            "Epoch 43/50\n",
            " - 8s - loss: 0.0074 - acc: 0.9973 - val_loss: 0.3143 - val_acc: 0.9474\n",
            "Epoch 44/50\n",
            " - 8s - loss: 0.0100 - acc: 0.9967 - val_loss: 0.2596 - val_acc: 0.9546\n",
            "Epoch 45/50\n",
            " - 8s - loss: 0.0076 - acc: 0.9974 - val_loss: 0.6944 - val_acc: 0.8658\n",
            "Epoch 46/50\n",
            " - 8s - loss: 0.0090 - acc: 0.9971 - val_loss: 0.2751 - val_acc: 0.9569\n",
            "Epoch 47/50\n",
            " - 9s - loss: 0.0058 - acc: 0.9981 - val_loss: 0.2890 - val_acc: 0.9542\n",
            "Epoch 48/50\n",
            " - 8s - loss: 0.0082 - acc: 0.9976 - val_loss: 0.2657 - val_acc: 0.9583\n",
            "Epoch 49/50\n",
            " - 8s - loss: 0.0060 - acc: 0.9983 - val_loss: 0.2960 - val_acc: 0.9565\n",
            "Epoch 50/50\n",
            " - 8s - loss: 0.0047 - acc: 0.9984 - val_loss: 0.2844 - val_acc: 0.9533\n"
          ],
          "name": "stdout"
        }
      ]
    },
    {
      "cell_type": "code",
      "metadata": {
        "id": "m1LQ7RzdAjsw",
        "colab_type": "code",
        "outputId": "bd30c925-53d9-4a26-9b6a-bb9baae39948",
        "colab": {
          "base_uri": "https://localhost:8080/",
          "height": 54
        }
      },
      "source": [
        "#Print the test set accuracy\n",
        "print('Test Accuracy: {:.2f}%'.format(classifier.evaluate(np.array(X_test), np.array(y_test))[1]* 100))"
      ],
      "execution_count": 0,
      "outputs": [
        {
          "output_type": "stream",
          "text": [
            "5512/5512 [==============================] - 1s 171us/step\n",
            "Test Accuracy: 95.25%\n"
          ],
          "name": "stdout"
        }
      ]
    },
    {
      "cell_type": "code",
      "metadata": {
        "id": "VkMAKbcGpnPr",
        "colab_type": "code",
        "outputId": "baba11ff-ae90-46eb-861a-df954111f654",
        "colab": {
          "base_uri": "https://localhost:8080/",
          "height": 350
        }
      },
      "source": [
        "#Plot the model accuracy vs the model loss\n",
        "fig, (ax1, ax2) = plt.subplots(1,2, figsize=(12,5))\n",
        "\n",
        "ax1.plot(history.history['acc'])\n",
        "ax1.plot(history.history['val_acc'])\n",
        "\n",
        "ax1.set_title('model accuracy')\n",
        "ax1.set_ylabel('accuracy')\n",
        "ax1.set_xlabel('epoch')\n",
        "ax1.legend(['train','validation'], loc='upper left')\n",
        "\n",
        "ax2.plot(history.history['loss'])\n",
        "ax2.plot(history.history['val_loss'])\n",
        "\n",
        "ax2.set_title('model loss')\n",
        "ax2.set_ylabel('loss')\n",
        "ax2.set_xlabel('epoch')\n",
        "ax2.legend(['train','validation'], loc='upper left')\n",
        "plt.show()"
      ],
      "execution_count": 0,
      "outputs": [
        {
          "output_type": "display_data",
          "data": {
            "image/png": "[encoded data removed]",
            "text/plain": [
              "<Figure size 864x360 with 2 Axes>"
            ]
          },
          "metadata": {
            "tags": []
          }
        }
      ]
    },
    {
      "cell_type": "markdown",
      "metadata": {
        "id": "NHfN6WDmkVQk",
        "colab_type": "text"
      },
      "source": [
        "### Using Augmentation to Improve Model Accuracy"
      ]
    },
    {
      "cell_type": "code",
      "metadata": {
        "id": "ZNfe1s8iXrZ9",
        "colab_type": "code",
        "colab": {}
      },
      "source": [
        "#Use augmentation to improve the accuracy of the model\n",
        "#Data augmentation is used to expand the training dataset to improve the model's performance and ability to generalize\n",
        "\n",
        "from keras.preprocessing.image import ImageDataGenerator\n",
        "\n",
        "train_generator = ImageDataGenerator(rescale = 1/255, zoom_range = 0.3,\\\n",
        "                                     horizontal_flip = True, rotation_range = 30)\n",
        "\n",
        "test_generator = ImageDataGenerator(rescale = 1/255)\n",
        "\n",
        "train_generator = train_generator.flow(np.array(X_train), y_train, batch_size = 64,\n",
        "                                       shuffle = False)\n",
        "\n",
        "test_generator = test_generator.flow(np.array(X_test), y_test, batch_size = 64,\n",
        "                                     shuffle = False)"
      ],
      "execution_count": 0,
      "outputs": []
    },
    {
      "cell_type": "code",
      "metadata": {
        "id": "urrsX2tQXq63",
        "colab_type": "code",
        "outputId": "826a8af8-2d44-4547-e51b-620b5ea3c9bb",
        "colab": {
          "base_uri": "https://localhost:8080/",
          "height": 1000
        }
      },
      "source": [
        "# validation_generator = test_datagen.flow_from_directory(test_data_path,\n",
        "#                                                         target_size=(img_rows, img_cols),\n",
        "#                                                         batch_size=batch_size,\n",
        "#                                                         class_mode='categorical')\n",
        "\n",
        "#Fit the model on the augmented training data\n",
        "history = classifier.fit_generator(train_generator,\n",
        "                                   steps_per_epoch = len(X_train)//64,\n",
        "                                   epochs = 50, shuffle = False)"
      ],
      "execution_count": 0,
      "outputs": [
        {
          "output_type": "stream",
          "text": [
            "Epoch 1/50\n",
            "345/344 [==============================] - 33s 95ms/step - loss: 0.2462 - acc: 0.9224\n",
            "Epoch 2/50\n",
            "345/344 [==============================] - 33s 95ms/step - loss: 0.1860 - acc: 0.9363\n",
            "Epoch 3/50\n",
            "345/344 [==============================] - 33s 95ms/step - loss: 0.1718 - acc: 0.9409\n",
            "Epoch 4/50\n",
            "345/344 [==============================] - 33s 95ms/step - loss: 0.1708 - acc: 0.9395\n",
            "Epoch 5/50\n",
            "345/344 [==============================] - 33s 95ms/step - loss: 0.1653 - acc: 0.9441\n",
            "Epoch 6/50\n",
            "345/344 [==============================] - 33s 95ms/step - loss: 0.1617 - acc: 0.9434\n",
            "Epoch 7/50\n",
            "345/344 [==============================] - 33s 95ms/step - loss: 0.1571 - acc: 0.9457\n",
            "Epoch 8/50\n",
            "345/344 [==============================] - 33s 95ms/step - loss: 0.1565 - acc: 0.9458\n",
            "Epoch 9/50\n",
            "345/344 [==============================] - 33s 96ms/step - loss: 0.1524 - acc: 0.9486\n",
            "Epoch 10/50\n",
            "345/344 [==============================] - 33s 95ms/step - loss: 0.1545 - acc: 0.9475\n",
            "Epoch 11/50\n",
            "345/344 [==============================] - 33s 95ms/step - loss: 0.1543 - acc: 0.9475\n",
            "Epoch 12/50\n",
            "345/344 [==============================] - 33s 95ms/step - loss: 0.1452 - acc: 0.9494\n",
            "Epoch 13/50\n",
            "345/344 [==============================] - 33s 96ms/step - loss: 0.1428 - acc: 0.9510\n",
            "Epoch 14/50\n",
            "345/344 [==============================] - 33s 95ms/step - loss: 0.1486 - acc: 0.9490\n",
            "Epoch 15/50\n",
            "345/344 [==============================] - 33s 95ms/step - loss: 0.1435 - acc: 0.9511\n",
            "Epoch 16/50\n",
            "345/344 [==============================] - 33s 96ms/step - loss: 0.1454 - acc: 0.9496\n",
            "Epoch 17/50\n",
            "345/344 [==============================] - 33s 95ms/step - loss: 0.1449 - acc: 0.9494\n",
            "Epoch 18/50\n",
            "345/344 [==============================] - 33s 96ms/step - loss: 0.1402 - acc: 0.9522\n",
            "Epoch 19/50\n",
            "345/344 [==============================] - 33s 95ms/step - loss: 0.1427 - acc: 0.9497\n",
            "Epoch 20/50\n",
            "345/344 [==============================] - 33s 95ms/step - loss: 0.1420 - acc: 0.9515\n",
            "Epoch 21/50\n",
            "345/344 [==============================] - 33s 95ms/step - loss: 0.1372 - acc: 0.9537\n",
            "Epoch 22/50\n",
            "345/344 [==============================] - 33s 95ms/step - loss: 0.1420 - acc: 0.9514\n",
            "Epoch 23/50\n",
            "345/344 [==============================] - 33s 95ms/step - loss: 0.1375 - acc: 0.9523\n",
            "Epoch 24/50\n",
            "345/344 [==============================] - 33s 95ms/step - loss: 0.1339 - acc: 0.9548\n",
            "Epoch 25/50\n",
            "345/344 [==============================] - 33s 95ms/step - loss: 0.1313 - acc: 0.9543\n",
            "Epoch 26/50\n",
            "345/344 [==============================] - 33s 95ms/step - loss: 0.1329 - acc: 0.9538\n",
            "Epoch 27/50\n",
            "345/344 [==============================] - 33s 95ms/step - loss: 0.1348 - acc: 0.9540\n",
            "Epoch 28/50\n",
            "345/344 [==============================] - 33s 96ms/step - loss: 0.1308 - acc: 0.9552\n",
            "Epoch 29/50\n",
            "345/344 [==============================] - 33s 95ms/step - loss: 0.1299 - acc: 0.9550\n",
            "Epoch 30/50\n",
            "345/344 [==============================] - 33s 95ms/step - loss: 0.1318 - acc: 0.9542\n",
            "Epoch 31/50\n",
            "345/344 [==============================] - 33s 95ms/step - loss: 0.1282 - acc: 0.9563\n",
            "Epoch 32/50\n",
            "345/344 [==============================] - 33s 95ms/step - loss: 0.1256 - acc: 0.9565\n",
            "Epoch 33/50\n",
            "345/344 [==============================] - 33s 95ms/step - loss: 0.1260 - acc: 0.9554\n",
            "Epoch 34/50\n",
            "345/344 [==============================] - 33s 95ms/step - loss: 0.1287 - acc: 0.9559\n",
            "Epoch 35/50\n",
            "345/344 [==============================] - 33s 95ms/step - loss: 0.1252 - acc: 0.9555\n",
            "Epoch 36/50\n",
            "345/344 [==============================] - 33s 95ms/step - loss: 0.1245 - acc: 0.9578\n",
            "Epoch 37/50\n",
            "345/344 [==============================] - 33s 95ms/step - loss: 0.1262 - acc: 0.9562\n",
            "Epoch 38/50\n",
            "345/344 [==============================] - 33s 95ms/step - loss: 0.1238 - acc: 0.9567\n",
            "Epoch 39/50\n",
            "345/344 [==============================] - 33s 95ms/step - loss: 0.1259 - acc: 0.9564\n",
            "Epoch 40/50\n",
            "345/344 [==============================] - 33s 95ms/step - loss: 0.1238 - acc: 0.9563\n",
            "Epoch 41/50\n",
            "345/344 [==============================] - 33s 95ms/step - loss: 0.1220 - acc: 0.9583\n",
            "Epoch 42/50\n",
            "345/344 [==============================] - 33s 95ms/step - loss: 0.1240 - acc: 0.9570\n",
            "Epoch 43/50\n",
            "345/344 [==============================] - 33s 95ms/step - loss: 0.1218 - acc: 0.9576\n",
            "Epoch 44/50\n",
            "345/344 [==============================] - 33s 95ms/step - loss: 0.1221 - acc: 0.9572\n",
            "Epoch 45/50\n",
            "345/344 [==============================] - 33s 95ms/step - loss: 0.1219 - acc: 0.9578\n",
            "Epoch 46/50\n",
            "345/344 [==============================] - 33s 95ms/step - loss: 0.1211 - acc: 0.9585\n",
            "Epoch 47/50\n",
            "345/344 [==============================] - 33s 95ms/step - loss: 0.1225 - acc: 0.9573\n",
            "Epoch 48/50\n",
            "345/344 [==============================] - 33s 95ms/step - loss: 0.1190 - acc: 0.9583\n",
            "Epoch 49/50\n",
            "345/344 [==============================] - 33s 95ms/step - loss: 0.1237 - acc: 0.9576\n",
            "Epoch 50/50\n",
            "345/344 [==============================] - 33s 95ms/step - loss: 0.1215 - acc: 0.9591\n"
          ],
          "name": "stdout"
        }
      ]
    },
    {
      "cell_type": "code",
      "metadata": {
        "id": "1HkDAqxkXqxf",
        "colab_type": "code",
        "outputId": "6a21d002-b0d3-42d6-fb42-26390f83ad27",
        "colab": {
          "base_uri": "https://localhost:8080/",
          "height": 54
        }
      },
      "source": [
        "#Evaluate the new accuracy after augmentation\n",
        "print('Test Accuracy after augmentation: {:.2f}%' .format(classifier.evaluate_generator(test_generator, steps = len(X_test), verbose=1)[1]*100))"
      ],
      "execution_count": 0,
      "outputs": [
        {
          "output_type": "stream",
          "text": [
            "5512/5512 [==============================] - 47s 8ms/step\n",
            "Test Accuracy after augmentation: 96.08%\n"
          ],
          "name": "stdout"
        }
      ]
    },
    {
      "cell_type": "markdown",
      "metadata": {
        "id": "wYCMl1sADEMG",
        "colab_type": "text"
      },
      "source": [
        "Training set accuracy in the last epoch was 95.91%, which differs only slightly to the test set accuracy after augmentation. \n",
        "\n",
        "The slight difference in the two accuracies implies the model does not suffer from overfitting"
      ]
    },
    {
      "cell_type": "markdown",
      "metadata": {
        "id": "zadShh5cfH2I",
        "colab_type": "text"
      },
      "source": [
        "## Conclusion"
      ]
    },
    {
      "cell_type": "markdown",
      "metadata": {
        "id": "yZach3t3eZMM",
        "colab_type": "text"
      },
      "source": [
        "The high accuracy exhibited by CNNs suggests they can serve as appropriate neural networks for detecting and diagnosing whether a cell is malaria-infected or not\n",
        "\n",
        "Using deep learning models like CNNs to detect and diagnose malaria could prove to be very effective, cheap, and scalable. "
      ]
    }
  ]
}